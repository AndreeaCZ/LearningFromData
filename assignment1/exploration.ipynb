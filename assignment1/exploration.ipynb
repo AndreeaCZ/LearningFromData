{
 "cells": [
  {
   "cell_type": "code",
   "id": "initial_id",
   "metadata": {
    "collapsed": true,
    "ExecuteTime": {
     "end_time": "2024-09-03T11:11:44.311030Z",
     "start_time": "2024-09-03T11:11:41.814424Z"
    }
   },
   "source": [
    "import re\n",
    "\n",
    "import pandas as pd\n",
    "import matplotlib.pyplot as plt\n",
    "\n",
    "from lfd_assignment1 import read_corpus\n",
    "\n",
    "data, categories = read_corpus('reviews.txt', False)\n",
    "_, sentiments = read_corpus('reviews.txt', True)\n",
    "\n",
    "df = pd.DataFrame({\n",
    "    'category': [category.capitalize() for category in categories], \n",
    "    'label': ['Positive' if sentiment == 'pos' else 'Negative' for sentiment in sentiments]})\n",
    "\n",
    "# Group by 'category' and 'label' and count occurrences\n",
    "category_counts = df.groupby(['category', 'label']).size().unstack(fill_value=0)\n",
    "\n",
    "category_counts.plot(kind='bar', stacked=True, color=['red', 'green'])\n",
    "plt.title('Histogram of Dataset')\n",
    "plt.xlabel('Category')\n",
    "plt.ylabel('Number of Reviews')\n",
    "plt.xticks(rotation=0)\n",
    "plt.legend(title='Label')\n",
    "plt.savefig('images/histogram.png')\n",
    "plt.show()\n"
   ],
   "execution_count": 2,
   "outputs": []
  },
  {
   "metadata": {
    "ExecuteTime": {
     "end_time": "2024-09-02T16:02:59.502552Z",
     "start_time": "2024-09-02T16:02:54.835849Z"
    }
   },
   "cell_type": "code",
   "source": [
    "review_lengths = [len(review) for review in data]\n",
    "\n",
    "plt.hist(review_lengths, bins=range(1, max(review_lengths)+2), edgecolor='black')\n",
    "plt.title('Histogram of Token counts')\n",
    "plt.xlabel('Number of Tokens')\n",
    "plt.ylabel('Number of Reviews')\n",
    "plt.savefig('images/token_histogram.png')\n",
    "plt.show()"
   ],
   "id": "b5949f5eb4497cd4",
   "execution_count": 12,
   "outputs": []
  },
  {
   "metadata": {
    "ExecuteTime": {
     "end_time": "2024-09-02T16:10:12.273529Z",
     "start_time": "2024-09-02T16:10:10.513007Z"
    }
   },
   "cell_type": "code",
   "source": [
    "import nltk\n",
    "from nltk.corpus import stopwords\n",
    "from nltk.tokenize import word_tokenize\n",
    "from nltk.stem import WordNetLemmatizer\n",
    "\n",
    "# Download required NLTK data files\n",
    "nltk.download('punkt')\n",
    "nltk.download('stopwords')\n",
    "nltk.download('wordnet')"
   ],
   "id": "3cdf6cd89dc2e25d",
   "execution_count": 15,
   "outputs": []
  },
  {
   "metadata": {
    "ExecuteTime": {
     "end_time": "2024-09-03T11:11:52.522971Z",
     "start_time": "2024-09-03T11:11:52.151164Z"
    }
   },
   "cell_type": "code",
   "source": [
    "# count distinct tokens\n",
    "\n",
    "pattern = re.compile(r\"^[a-zA-Z]+(?:'\\w+)?$\")\n",
    "\n",
    "tokens = set([token for review in data for token in review if pattern.match(token)])\n",
    "\n",
    "print(f'Number of distinct tokens: {len(tokens)}')"
   ],
   "id": "3b34778d4d047ff7",
   "execution_count": 3,
   "outputs": []
  },
  {
   "metadata": {
    "ExecuteTime": {
     "end_time": "2024-09-02T16:11:45.019487Z",
     "start_time": "2024-09-02T16:11:44.903467Z"
    }
   },
   "cell_type": "code",
   "source": [
    "from collections import Counter\n",
    "\n",
    "# filtering stopwords to see most common words, will not do this when fitting ML models\n",
    "stopword_set = set(stopwords.words('english'))\n",
    "\n",
    "tokens = [token for review in data for token in review if token.isalpha() and token not in stopword_set]\n",
    "\n",
    "counter = Counter(tokens)\n",
    "most_common = counter.most_common(10)\n",
    "print(most_common)"
   ],
   "id": "6d9662c8861fb63c",
   "execution_count": 18,
   "outputs": []
  },
  {
   "metadata": {
    "ExecuteTime": {
     "end_time": "2024-09-02T16:29:42.312025Z",
     "start_time": "2024-09-02T16:29:38.461962Z"
    }
   },
   "cell_type": "code",
   "source": [
    "# Lemmatize the tokens first, see if there's a difference\n",
    "lemmatizer = WordNetLemmatizer()\n",
    "\n",
    "counter = Counter([lemmatizer.lemmatize(token) for token in tokens])\n",
    "most_common = counter.most_common(10)\n",
    "print(most_common)"
   ],
   "id": "ff41cf8702e228cb",
   "execution_count": 21,
   "outputs": []
  },
  {
   "metadata": {
    "ExecuteTime": {
     "end_time": "2024-09-02T16:24:54.130361Z",
     "start_time": "2024-09-02T16:24:51.866851Z"
    }
   },
   "cell_type": "code",
   "source": [
    "from nltk.util import bigrams, trigrams\n",
    "\n",
    "# Investigating bi- and trigrams\n",
    "bigrams = [bigram for review in data for bigram in bigrams(review) if all(token.isalpha() for token in bigram) and all(token not in stopword_set for token in bigram)]\n",
    "\n",
    "counter = Counter(bigrams)\n",
    "most_common = counter.most_common(10)\n",
    "print(most_common)\n",
    "\n",
    "trigrams = [trigram for review in data for trigram in trigrams(review) if all(token.isalpha() for token in trigram) and all(token not in stopword_set for token in trigram)]\n",
    "\n",
    "counter = Counter(trigrams)\n",
    "most_common = counter.most_common(10)\n",
    "print(most_common)"
   ],
   "id": "6a444232ce1c7b43",
   "execution_count": 20,
   "outputs": []
  }
 ],
 "metadata": {
  "kernelspec": {
   "display_name": "Python 3",
   "language": "python",
   "name": "python3"
  },
  "language_info": {
   "codemirror_mode": {
    "name": "ipython",
    "version": 2
   },
   "file_extension": ".py",
   "mimetype": "text/x-python",
   "name": "python",
   "nbconvert_exporter": "python",
   "pygments_lexer": "ipython2",
   "version": "2.7.6"
  }
 },
 "nbformat": 4,
 "nbformat_minor": 5
}
